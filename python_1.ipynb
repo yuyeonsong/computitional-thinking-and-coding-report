{
  "nbformat": 4,
  "nbformat_minor": 0,
  "metadata": {
    "colab": {
      "name": "python_1.ipynb",
      "provenance": [],
      "authorship_tag": "ABX9TyNfnKuE8TgTIYRLTa5lF5og",
      "include_colab_link": true
    },
    "kernelspec": {
      "name": "python3",
      "display_name": "Python 3"
    },
    "language_info": {
      "name": "python"
    }
  },
  "cells": [
    {
      "cell_type": "markdown",
      "metadata": {
        "id": "view-in-github",
        "colab_type": "text"
      },
      "source": [
        "<a href=\"https://colab.research.google.com/github/yuyeonsong/computitional-thinking-and-coding-report/blob/main/python_1.ipynb\" target=\"_parent\"><img src=\"https://colab.research.google.com/assets/colab-badge.svg\" alt=\"Open In Colab\"/></a>"
      ]
    },
    {
      "cell_type": "code",
      "execution_count": null,
      "metadata": {
        "colab": {
          "base_uri": "https://localhost:8080/"
        },
        "id": "CbidNPsVa5XV",
        "outputId": "be49db8d-0acf-4108-81fd-9185b231490b"
      },
      "outputs": [
        {
          "output_type": "stream",
          "name": "stdout",
          "text": [
            "Hello world\n"
          ]
        }
      ],
      "source": [
        "print(\"Hello world\")"
      ]
    },
    {
      "cell_type": "code",
      "source": [
        "print('Hello world')"
      ],
      "metadata": {
        "colab": {
          "base_uri": "https://localhost:8080/"
        },
        "id": "1H4cxYArbYWz",
        "outputId": "f3bebe63-dac5-4384-8b5c-0063093e45ef"
      },
      "execution_count": null,
      "outputs": [
        {
          "output_type": "stream",
          "name": "stdout",
          "text": [
            "Hello world\n"
          ]
        }
      ]
    },
    {
      "cell_type": "code",
      "source": [
        "print(1+2)"
      ],
      "metadata": {
        "colab": {
          "base_uri": "https://localhost:8080/"
        },
        "id": "m_NRg_9ibhSx",
        "outputId": "650d355a-1002-4c84-c556-972ebd4a8ba4"
      },
      "execution_count": null,
      "outputs": [
        {
          "output_type": "stream",
          "name": "stdout",
          "text": [
            "3\n"
          ]
        }
      ]
    },
    {
      "cell_type": "code",
      "source": [
        "print(2*3)"
      ],
      "metadata": {
        "colab": {
          "base_uri": "https://localhost:8080/"
        },
        "id": "YIihDTppboWK",
        "outputId": "274afbeb-a524-48c4-f23c-df03377816ec"
      },
      "execution_count": null,
      "outputs": [
        {
          "output_type": "stream",
          "name": "stdout",
          "text": [
            "6\n"
          ]
        }
      ]
    },
    {
      "cell_type": "code",
      "source": [
        "print(True)"
      ],
      "metadata": {
        "colab": {
          "base_uri": "https://localhost:8080/"
        },
        "id": "mm30oEOWclbw",
        "outputId": "b5fb574f-a965-4b0c-c275-cc35c9f23640"
      },
      "execution_count": 2,
      "outputs": [
        {
          "output_type": "stream",
          "name": "stdout",
          "text": [
            "True\n"
          ]
        }
      ]
    },
    {
      "cell_type": "code",
      "source": [
        "print(False)"
      ],
      "metadata": {
        "colab": {
          "base_uri": "https://localhost:8080/"
        },
        "id": "7z1e1vbGcz-d",
        "outputId": "8f77e860-ab51-42cd-8504-eb5eea24ed48"
      },
      "execution_count": 3,
      "outputs": [
        {
          "output_type": "stream",
          "name": "stdout",
          "text": [
            "False\n"
          ]
        }
      ]
    },
    {
      "cell_type": "code",
      "source": [
        "a = 3; b = 4; c = a + b; print(c); print(a); print(b)"
      ],
      "metadata": {
        "colab": {
          "base_uri": "https://localhost:8080/"
        },
        "id": "nQrHwn14c7PC",
        "outputId": "cbda524d-f2ef-45b6-a3fb-86a327191951"
      },
      "execution_count": 7,
      "outputs": [
        {
          "output_type": "stream",
          "name": "stdout",
          "text": [
            "7\n",
            "3\n",
            "4\n"
          ]
        }
      ]
    },
    {
      "cell_type": "code",
      "source": [
        "a = \"안녕하세요.\";\n",
        "b = \"반갑습니다.\";\n",
        "c = a + b;"
      ],
      "metadata": {
        "colab": {
          "base_uri": "https://localhost:8080/"
        },
        "id": "55EOSfQwdldg",
        "outputId": "1f8a5f00-214e-45c3-a490-22ee0e346a05"
      },
      "execution_count": 8,
      "outputs": [
        {
          "output_type": "stream",
          "name": "stdout",
          "text": [
            "안녕하세요.반갑습니다.\n"
          ]
        }
      ]
    },
    {
      "cell_type": "code",
      "source": [
        "a = \"안녕하세요.\"\n",
        "b = a * 10\n",
        "print(b)"
      ],
      "metadata": {
        "colab": {
          "base_uri": "https://localhost:8080/"
        },
        "id": "1iaeYKr3eO8h",
        "outputId": "7947dc38-dafe-42d6-f7ca-65165d6cbdb0"
      },
      "execution_count": 12,
      "outputs": [
        {
          "output_type": "stream",
          "name": "stdout",
          "text": [
            "안녕하세요.안녕하세요.안녕하세요.안녕하세요.안녕하세요.안녕하세요.안녕하세요.안녕하세요.안녕하세요.안녕하세요.\n"
          ]
        }
      ]
    },
    {
      "cell_type": "code",
      "source": [
        " print(\"###############\")\n",
        " print(\"#\" * 15)"
      ],
      "metadata": {
        "colab": {
          "base_uri": "https://localhost:8080/"
        },
        "id": "AeOjGWHVefOD",
        "outputId": "04da6b3c-6612-421f-c6aa-349b484a9f05"
      },
      "execution_count": 20,
      "outputs": [
        {
          "output_type": "stream",
          "name": "stdout",
          "text": [
            "###############\n",
            "###############\n"
          ]
        }
      ]
    },
    {
      "cell_type": "markdown",
      "source": [
        "아버지와 어머니 그리고 삼촌에게 감사한마음을 전하고 싶습니다.\n",
        "아버지에게는 10만원, 어머니에게는 15만원, 삼촌에게는 \"감사합니다.\"\n",
        "변수 : _Father, _Mother, _Uncle"
      ],
      "metadata": {
        "id": "JqNZj5Vpe70z"
      }
    },
    {
      "cell_type": "code",
      "source": [
        "_Father = \"100,000\"\n",
        "_Mother = \"150,000\"\n",
        "_Uncle = \"감사합니다.\"\n",
        "print(\"아버지=\",_Father, \"원\")\n",
        "print(\"어머니=\",_Mother, \"원\")\n",
        "print(\"삼촌=\",_Uncle)"
      ],
      "metadata": {
        "colab": {
          "base_uri": "https://localhost:8080/"
        },
        "id": "HYaI8dN9fKtj",
        "outputId": "1d5a6c23-3f8b-44cc-9694-af24ae7bfabb"
      },
      "execution_count": 18,
      "outputs": [
        {
          "output_type": "stream",
          "name": "stdout",
          "text": [
            "아버지= 100,000 원\n",
            "어머니= 150,000 원\n",
            "삼촌= 감사합니다.\n"
          ]
        }
      ]
    },
    {
      "cell_type": "markdown",
      "source": [
        "변수의 규칙 : 문자 또는 _로 시작(Father, father, _father),문자,숫자,_구성(Father69,father55,father_56),공백 절대안된다.안쓰는 것이 좋다. 특수문자 절대안된다."
      ],
      "metadata": {
        "id": "eEXUldpLiFyF"
      }
    },
    {
      "cell_type": "markdown",
      "source": [
        "FATHER, father, MOTHER, mother, _Father, Keyword(True, False, for, while, if, continue, break, class....)"
      ],
      "metadata": {
        "id": "o732HxsHkQyW"
      }
    },
    {
      "cell_type": "markdown",
      "source": [
        "숫자자료형 = 숫자, 문자자료형 = 모든 문자들.."
      ],
      "metadata": {
        "id": "XiW2CcLEk1Wz"
      }
    },
    {
      "cell_type": "code",
      "source": [
        "a = 2\n",
        "b =\"2\"\n",
        "c = a + int(b)\n",
        "print(c)"
      ],
      "metadata": {
        "colab": {
          "base_uri": "https://localhost:8080/"
        },
        "id": "YSsZBCJYlFjL",
        "outputId": "4a0c89bb-2126-4b8a-b2de-7a5b5e8585cd"
      },
      "execution_count": 22,
      "outputs": [
        {
          "output_type": "stream",
          "name": "stdout",
          "text": [
            "4\n"
          ]
        }
      ]
    },
    {
      "cell_type": "markdown",
      "source": [
        "형변환 : 정수형을 변환 할 때 int(), 실수형으로 변환하고자 할 때 float(), 문자자료형으로 변환하고자 할 때 str(), int(float(\"2.5\"))"
      ],
      "metadata": {
        "id": "8UHB_loIlW7c"
      }
    },
    {
      "cell_type": "markdown",
      "source": [
        "산술연산자 :+ 더하기(print(4+3)), - 빼기(print(2-1)), * 곱하기(print(5*4)), / 나누기(print(4/2)), % 나머지 print(5 % 2), // 몫 print(6//2), ** 거듭제곱 print(4 ** 2)"
      ],
      "metadata": {
        "id": "pi4tiyg8mMCU"
      }
    }
  ]
}